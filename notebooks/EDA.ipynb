{
 "cells": [
  {
   "cell_type": "code",
   "execution_count": null,
   "metadata": {},
   "outputs": [],
   "source": [
    "import pandas as pd\n",
    "import plotly.express as px\n",
    "\n",
    "car_data = pd.read_csv('/Users/alvaromata/s7_vehicles_alvaro')\n",
    "graph_uno = px.histogram(car_data, x='odometer')\n",
    "graph_uno.show()\n",
    "\n",
    "\n",
    "graph_dos = px.scatter(car_data, x='odometer', y='price')\n",
    "graph_dos.show()"
   ]
  }
 ],
 "metadata": {
  "language_info": {
   "name": "python"
  }
 },
 "nbformat": 4,
 "nbformat_minor": 2
}
